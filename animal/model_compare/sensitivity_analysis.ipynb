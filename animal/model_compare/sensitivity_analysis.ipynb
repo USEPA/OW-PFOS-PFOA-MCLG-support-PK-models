{
 "cells": [
  {
   "cell_type": "code",
   "execution_count": 1,
   "id": "38925d27",
   "metadata": {},
   "outputs": [
    {
     "name": "stderr",
     "output_type": "stream",
     "text": [
      "R[write to console]: The mod.exe had been created.\n",
      "\n"
     ]
    },
    {
     "name": "stdout",
     "output_type": "stream",
     "text": [
      "matplotlib: 3.5.3\n",
      "scipy     : 1.10.0\n",
      "numpy     : 1.21.2\n",
      "seaborn   : 0.11.2\n",
      "sys       : 3.8.5 (default, Sep  3 2020, 21:29:08) [MSC v.1916 64 bit (AMD64)]\n",
      "pandas    : 1.5.2\n",
      "sklearn   : 0.24.2\n",
      "rpy2      : 3.4.4\n",
      "\n"
     ]
    }
   ],
   "source": [
    "%load_ext autoreload\n",
    "%autoreload 2\n",
    "\n",
    "import numpy as np\n",
    "import pandas as pd\n",
    "pd.set_option('display.max_rows', 500)\n",
    "pd.set_option('display.max_columns', 500)\n",
    "pd.set_option('display.width', 1000)\n",
    "import seaborn as sns\n",
    "sns.set_theme()\n",
    "import matplotlib.pyplot as plt\n",
    "import sklearn.metrics as skm\n",
    "import scipy\n",
    "\n",
    "import rpy2\n",
    "from rpy2.robjects import r\n",
    "NULL = r(\"NULL\")\n",
    "import sys\n",
    "sys.path.append('../') # Add one directory back to the path\n",
    "\n",
    "from PFAS_DR import PFAS_DR\n",
    "%load_ext rpy2.ipython\n",
    "%load_ext watermark\n",
    "%watermark -iv"
   ]
  },
  {
   "cell_type": "code",
   "execution_count": 2,
   "id": "670db03c",
   "metadata": {},
   "outputs": [],
   "source": [
    "model_path = '../pfoa_2compabandersenoral_1cmptDev'\n",
    "param_path = '../data_files'"
   ]
  },
  {
   "cell_type": "markdown",
   "id": "3daca3ad",
   "metadata": {},
   "source": [
    "# Overview\n",
    "\n",
    "Run a one-at-a-time sensitivity analysis on the desired internal dose metrics. For this example, we mimic the NTP 2-year study to capture dose metrics during gesatation, lactaion, and post-weaning. The `dosing_dict` described here runs the 2-year NTP study and the sensitivity analysis alters pk parameters to see resulting sensitivity to the dose metrics."
   ]
  },
  {
   "cell_type": "markdown",
   "id": "38fe4987",
   "metadata": {},
   "source": [
    "## Developmental sensitivitiy analysis\n",
    "\n",
    "Run a sensitivity analysis for a developmental study. Simply swap in `'PFOS'` and `'PFOA'` for the `'chem'` value to change chemical sensitiviy analysis. "
   ]
  },
  {
   "cell_type": "code",
   "execution_count": 3,
   "id": "24bff1ae",
   "metadata": {},
   "outputs": [
    {
     "name": "stdout",
     "output_type": "stream",
     "text": [
      "Running developmental model\n",
      "current adult dose 1\n",
      "current infant dose 1\n",
      "Running developmental model\n",
      "current adult dose 1\n",
      "current infant dose 1\n",
      "Running developmental model\n",
      "current adult dose 1\n",
      "current infant dose 1\n",
      "Running developmental model\n",
      "current adult dose 1\n",
      "current infant dose 1\n",
      "Running developmental model\n",
      "current adult dose 1\n",
      "current infant dose 1\n",
      "Running developmental model\n",
      "current adult dose 1\n",
      "current infant dose 1\n",
      "Running developmental model\n",
      "current adult dose 1\n",
      "current infant dose 1\n",
      "Running developmental model\n",
      "current adult dose 1\n",
      "current infant dose 1\n",
      "Running developmental model\n",
      "current adult dose 1\n",
      "current infant dose 1\n",
      "Running developmental model\n",
      "current adult dose 1\n",
      "current infant dose 1\n",
      "Running developmental model\n",
      "current adult dose 1\n",
      "current infant dose 1\n",
      "Running developmental model\n",
      "current adult dose 1\n",
      "current infant dose 1\n",
      "Running developmental model\n",
      "current adult dose 1\n",
      "current infant dose 1\n",
      "Running developmental model\n",
      "current adult dose 1\n",
      "current infant dose 1\n"
     ]
    },
    {
     "data": {
      "text/plain": [
       "AUCavg_pup_gest          6.805428\n",
       "AUCavg_pup_lact         22.390980\n",
       "AUCavg_pup_gest_lact    14.417010\n",
       "AUCavg_pup_diet         84.477881\n",
       "AUCavg_pup_total        65.041630\n",
       "Name: r_f_m, dtype: float64"
      ]
     },
     "execution_count": 3,
     "metadata": {},
     "output_type": "execute_result"
    },
    {
     "data": {
      "image/png": "[encoded data removed]",
      "text/plain": [
       "<Figure size 360x936 with 1 Axes>"
      ]
     },
     "metadata": {
      "needs_background": "light"
     },
     "output_type": "display_data"
    }
   ],
   "source": [
    "t_gest = 22 # 22 days of gestation\n",
    "t_lact = 21\n",
    "\n",
    "t_f = 7*19+t_gest # PNW19\n",
    "#t_f = 2*365 # 2 years\n",
    "pup_growth = pd.read_excel('../data_files/NTP_growth.xlsx', sheet_name='Female_0-300')\n",
    "final_metrics = []\n",
    "dosing_dict = {\n",
    "    'growth_data': pup_growth, # Reported pup weights from NTP study\n",
    "    \n",
    "    'chem': 'PFOS', # Change fro\n",
    "    'ts': 0,         # Start simulation at conception\n",
    "    'tf': t_f,     # PNW19\n",
    "    't_dose': 0.999,     # Dose in feed, assume mg/kg/day applied over entire day\n",
    "    't_dose_i': 0.999,   # Dose in feed for pup\n",
    "    't_step':0.0001,\n",
    "    'sex': 'Male',           \n",
    "    'sex_i': 'Female',         \n",
    "    \n",
    "    'strain': 'rat',            # Rat simulation\n",
    "    'sample_posterior': False, # Don't sample posterior distributions\n",
    "    'param_path': param_path,\n",
    "    'model_path': model_path,\n",
    "    'dev': True,  \n",
    "    \n",
    "    'dose': 1,          # 0 ppm --> mg/kg dose to dam\n",
    "    't_m_start':6,         # Start maternal dosing on GD6\n",
    "    't_m_end': t_gest+t_lact,      # End maternal dosing on 21 days post-partum\n",
    "    'M_m_1': 0.27,         # Initial Dam weight\n",
    "    'M_m_2': 0.281,         # Final Dam weight (post-partum)\n",
    "\n",
    "    'dose_i': 1,       # 300 ppm --> mg/kg dose to pup\n",
    "    't_i_start': t_gest+t_lact,\n",
    "    't_i_end': t_f,\n",
    "    \n",
    "    # Female infant weights during lactation (Table )\n",
    "    'M_i_1': 0.00687,     # Infant mass 1 (kg).\n",
    "    'M_i_2': 0.00956,      # Infant mass 2 (kg).\n",
    "    'M_i_3': 0.01466,      # Infant mass 3 (kg).\n",
    "    'M_i_4': 0.04868,       # Infant mass 4 (kg).\n",
    "    \n",
    "    't_i_1': 1,          # Time (d) since birth for infant mass 1.\n",
    "    't_i_2': 4,         # Time (d) since birth for infant mass 2.\n",
    "    't_i_3': 7,         # Time (d) since birth for infant mass 3.\n",
    "    't_i_4': 21,         # Time (d) since birth for infant mass 4.\n",
    "    \n",
    "    'route': 'oral',       # Oral route of exposure\n",
    "        \n",
    "    'tm_daily_dose': [0],  # Once daily dosing\n",
    "    'ti_daily_dose': [0],  # Once daily dosing\n",
    "    \n",
    "    'Qcc': 12.39,      # Qcc for rats from Wambaugh et al.\n",
    "    'plotting': False, # Not plotting time-course results\n",
    "}\n",
    "\n",
    "sens_PFOA = PFAS_DR(**dosing_dict)\n",
    "sens_PFOA.run_sensivity(['ka', 'Vcc', 'Tmc', 'k12', 'KT', 'free', 'Qfilc', 'Vfilc', 'Rv2v1', 'P_milk', 'half_life', 'Vcc_i', 'r_f_m'], \n",
    "                        ['AUCavg_pup_gest', 'AUCavg_pup_lact', 'AUCavg_pup_gest_lact', 'AUCavg_pup_diet', 'AUCavg_pup_total'],\n",
    "                       plot=True)\n",
    "sens_PFOA.tmp_metrics"
   ]
  },
  {
   "cell_type": "markdown",
   "id": "53584b33",
   "metadata": {},
   "source": [
    "## Adult sensitivity analysis\n",
    "\n",
    "Run the sensitivity analysis on an adult simulation and corresponding internal dose metric. Simply swap in `'PFOS'` and `'PFOA'` for the `'chem'` value to change chemical sensitiviy analysis. "
   ]
  },
  {
   "cell_type": "code",
   "execution_count": 4,
   "id": "6155a947",
   "metadata": {},
   "outputs": [
    {
     "name": "stdout",
     "output_type": "stream",
     "text": [
      "Running adult model for rat with 1 mg/kg PFOS\n",
      "Running adult model for rat with 1 mg/kg PFOS\n",
      "Running adult model for rat with 1 mg/kg PFOS\n",
      "Running adult model for rat with 1 mg/kg PFOS\n",
      "Running adult model for rat with 1 mg/kg PFOS\n",
      "Running adult model for rat with 1 mg/kg PFOS\n",
      "Running adult model for rat with 1 mg/kg PFOS\n",
      "Running adult model for rat with 1 mg/kg PFOS\n",
      "Running adult model for rat with 1 mg/kg PFOS\n",
      "Running adult model for rat with 1 mg/kg PFOS\n"
     ]
    },
    {
     "data": {
      "image/png": "[encoded data removed]",
      "text/plain": [
       "<Figure size 360x648 with 1 Axes>"
      ]
     },
     "metadata": {
      "needs_background": "light"
     },
     "output_type": "display_data"
    }
   ],
   "source": [
    "dosing_dict = {'chem': 'PFOS',\n",
    "               't_m_start': 0,\n",
    "               'ts': -1,\n",
    "                   't_m_end': 730,\n",
    "                   'sex': 'Male',\n",
    "                   'route': 'oral',\n",
    "                   'strain': 'rat',\n",
    "                   'M_m_1': 0.2,\n",
    "                   'Qcc': 12.39,\n",
    "                   'dose': 1,\n",
    "                   'tm_daily_dose': [0],\n",
    "                   'sample_posterior': False,\n",
    "               'dev': False,\n",
    "                   'param_path': param_path,\n",
    "                   'model_path': model_path,\n",
    "                   'plotting': False\n",
    "                   }\n",
    "sens_PFOA = PFAS_DR(**dosing_dict)\n",
    "sens_PFOA.run_sensivity(['ka', 'Vcc', 'Tmc', 'k12', 'KT', 'free', 'Qfilc', 'Vfilc', 'Rv2v1'], \n",
    "                        ['Cavg'],\n",
    "                       plot=True)"
   ]
  }
 ],
 "metadata": {
  "kernelspec": {
   "display_name": "Python 3 (ipykernel)",
   "language": "python",
   "name": "python3"
  },
  "language_info": {
   "codemirror_mode": {
    "name": "ipython",
    "version": 3
   },
   "file_extension": ".py",
   "mimetype": "text/x-python",
   "name": "python",
   "nbconvert_exporter": "python",
   "pygments_lexer": "ipython3",
   "version": "3.8.5"
  },
  "toc": {
   "base_numbering": 1,
   "nav_menu": {},
   "number_sections": true,
   "sideBar": true,
   "skip_h1_title": false,
   "title_cell": "Table of Contents",
   "title_sidebar": "Contents",
   "toc_cell": false,
   "toc_position": {},
   "toc_section_display": true,
   "toc_window_display": false
  },
  "varInspector": {
   "cols": {
    "lenName": 16,
    "lenType": 16,
    "lenVar": 40
   },
   "kernels_config": {
    "python": {
     "delete_cmd_postfix": "",
     "delete_cmd_prefix": "del ",
     "library": "var_list.py",
     "varRefreshCmd": "print(var_dic_list())"
    },
    "r": {
     "delete_cmd_postfix": ") ",
     "delete_cmd_prefix": "rm(",
     "library": "var_list.r",
     "varRefreshCmd": "cat(var_dic_list()) "
    }
   },
   "types_to_exclude": [
    "module",
    "function",
    "builtin_function_or_method",
    "instance",
    "_Feature"
   ],
   "window_display": false
  }
 },
 "nbformat": 4,
 "nbformat_minor": 5
}
